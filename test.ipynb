{
 "cells": [
  {
   "cell_type": "code",
   "execution_count": 2,
   "id": "bce2c7ec",
   "metadata": {},
   "outputs": [
    {
     "data": {
      "text/html": [
       "<div>\n",
       "<style scoped>\n",
       "    .dataframe tbody tr th:only-of-type {\n",
       "        vertical-align: middle;\n",
       "    }\n",
       "\n",
       "    .dataframe tbody tr th {\n",
       "        vertical-align: top;\n",
       "    }\n",
       "\n",
       "    .dataframe thead th {\n",
       "        text-align: right;\n",
       "    }\n",
       "</style>\n",
       "<table border=\"1\" class=\"dataframe\">\n",
       "  <thead>\n",
       "    <tr style=\"text-align: right;\">\n",
       "      <th></th>\n",
       "      <th>anime_name</th>\n",
       "      <th>description</th>\n",
       "      <th>release date</th>\n",
       "      <th>time</th>\n",
       "      <th>studio</th>\n",
       "      <th>views</th>\n",
       "      <th>genres</th>\n",
       "      <th>score</th>\n",
       "    </tr>\n",
       "  </thead>\n",
       "  <tbody>\n",
       "    <tr>\n",
       "      <th>0</th>\n",
       "      <td>Boku no Hero Academia 2nd Season: Hero Note</td>\n",
       "      <td>Recap of Boku no Hero Academia that aired a we...</td>\n",
       "      <td>Mar 25, 2017</td>\n",
       "      <td>1 ep</td>\n",
       "      <td>Bones</td>\n",
       "      <td>154,132</td>\n",
       "      <td>Action,Comedy</td>\n",
       "      <td>7.32</td>\n",
       "    </tr>\n",
       "    <tr>\n",
       "      <th>1</th>\n",
       "      <td>Toaru Majutsu no Index</td>\n",
       "      <td>Academy City, Japan, is at the forefront of sc...</td>\n",
       "      <td>Oct 5, 2008, 01:35 (JST)</td>\n",
       "      <td>24</td>\n",
       "      <td>J.C.Staff</td>\n",
       "      <td>694,349</td>\n",
       "      <td>Action,Sci-Fi</td>\n",
       "      <td>7.40</td>\n",
       "    </tr>\n",
       "    <tr>\n",
       "      <th>2</th>\n",
       "      <td>Shingeki no Kyojin</td>\n",
       "      <td>Centuries ago, mankind was slaughtered to near...</td>\n",
       "      <td>Apr 7, 2013, 01:58 (JST)</td>\n",
       "      <td>25</td>\n",
       "      <td>Wit Studio</td>\n",
       "      <td>3,067,845</td>\n",
       "      <td>Action,Drama,Fantasy,Mystery</td>\n",
       "      <td>8.51</td>\n",
       "    </tr>\n",
       "    <tr>\n",
       "      <th>3</th>\n",
       "      <td>Aquarion Evol</td>\n",
       "      <td>12,000 years after the events in Genesis Aquar...</td>\n",
       "      <td>Jan 9, 2012</td>\n",
       "      <td>26</td>\n",
       "      <td>8bit</td>\n",
       "      <td>97,858</td>\n",
       "      <td>Action,Comedy,Drama,Fantasy,Romance,Sci-Fi</td>\n",
       "      <td>7.11</td>\n",
       "    </tr>\n",
       "    <tr>\n",
       "      <th>4</th>\n",
       "      <td>Kimi to Boku no Saigo no Senjou, Aruiwa Sekai ...</td>\n",
       "      <td>A force known as Astral power permeates throug...</td>\n",
       "      <td>Oct 7, 2020, 23:30 (JST)</td>\n",
       "      <td>12</td>\n",
       "      <td>SILVER LINK.</td>\n",
       "      <td>193,791</td>\n",
       "      <td>Action,Fantasy,Romance</td>\n",
       "      <td>6.58</td>\n",
       "    </tr>\n",
       "  </tbody>\n",
       "</table>\n",
       "</div>"
      ],
      "text/plain": [
       "                                          anime_name  \\\n",
       "0        Boku no Hero Academia 2nd Season: Hero Note   \n",
       "1                             Toaru Majutsu no Index   \n",
       "2                                 Shingeki no Kyojin   \n",
       "3                                      Aquarion Evol   \n",
       "4  Kimi to Boku no Saigo no Senjou, Aruiwa Sekai ...   \n",
       "\n",
       "                                         description  \\\n",
       "0  Recap of Boku no Hero Academia that aired a we...   \n",
       "1  Academy City, Japan, is at the forefront of sc...   \n",
       "2  Centuries ago, mankind was slaughtered to near...   \n",
       "3  12,000 years after the events in Genesis Aquar...   \n",
       "4  A force known as Astral power permeates throug...   \n",
       "\n",
       "               release date  time        studio      views  \\\n",
       "0              Mar 25, 2017  1 ep         Bones    154,132   \n",
       "1  Oct 5, 2008, 01:35 (JST)    24     J.C.Staff    694,349   \n",
       "2  Apr 7, 2013, 01:58 (JST)    25    Wit Studio  3,067,845   \n",
       "3               Jan 9, 2012    26          8bit     97,858   \n",
       "4  Oct 7, 2020, 23:30 (JST)    12  SILVER LINK.    193,791   \n",
       "\n",
       "                                       genres score  \n",
       "0                               Action,Comedy  7.32  \n",
       "1                               Action,Sci-Fi  7.40  \n",
       "2                Action,Drama,Fantasy,Mystery  8.51  \n",
       "3  Action,Comedy,Drama,Fantasy,Romance,Sci-Fi  7.11  \n",
       "4                      Action,Fantasy,Romance  6.58  "
      ]
     },
     "execution_count": 2,
     "metadata": {},
     "output_type": "execute_result"
    }
   ],
   "source": [
    "import pandas as pd\n",
    "anime = pd.read_csv('anime.csv')\n",
    "anime.head(5)"
   ]
  },
  {
   "cell_type": "code",
   "execution_count": 5,
   "id": "01133f26",
   "metadata": {},
   "outputs": [
    {
     "data": {
      "text/plain": [
       "'Recap of Boku no Hero Academia that aired a week before the second season.'"
      ]
     },
     "execution_count": 5,
     "metadata": {},
     "output_type": "execute_result"
    }
   ],
   "source": [
    "anime['description'][0]"
   ]
  },
  {
   "cell_type": "code",
   "execution_count": 16,
   "id": "83c7eb75",
   "metadata": {},
   "outputs": [
    {
     "name": "stdout",
     "output_type": "stream",
     "text": [
      "['https://myanimelist.net/anime/genre/1/Action?page=1', 'https://myanimelist.net/anime/genre/1/Action?page=2']\n"
     ]
    }
   ],
   "source": [
    "base_url = 'https://myanimelist.net/anime/genre/1/Action?page='\n",
    "urls = [base_url+str(i) for i in range(1,3)]\n",
    "print(urls)"
   ]
  },
  {
   "cell_type": "code",
   "execution_count": 14,
   "id": "341c33f4",
   "metadata": {},
   "outputs": [
    {
     "data": {
      "text/html": [
       "<div>\n",
       "<style scoped>\n",
       "    .dataframe tbody tr th:only-of-type {\n",
       "        vertical-align: middle;\n",
       "    }\n",
       "\n",
       "    .dataframe tbody tr th {\n",
       "        vertical-align: top;\n",
       "    }\n",
       "\n",
       "    .dataframe thead th {\n",
       "        text-align: right;\n",
       "    }\n",
       "</style>\n",
       "<table border=\"1\" class=\"dataframe\">\n",
       "  <thead>\n",
       "    <tr style=\"text-align: right;\">\n",
       "      <th></th>\n",
       "      <th>anime_name</th>\n",
       "      <th>description</th>\n",
       "      <th>release date</th>\n",
       "      <th>time</th>\n",
       "      <th>studio</th>\n",
       "      <th>views</th>\n",
       "      <th>genres</th>\n",
       "      <th>score</th>\n",
       "    </tr>\n",
       "  </thead>\n",
       "  <tbody>\n",
       "    <tr>\n",
       "      <th>2</th>\n",
       "      <td>Shingeki no Kyojin</td>\n",
       "      <td>Centuries ago, mankind was slaughtered to near...</td>\n",
       "      <td>Apr 7, 2013, 01:58 (JST)</td>\n",
       "      <td>25</td>\n",
       "      <td>Wit Studio</td>\n",
       "      <td>3,067,845</td>\n",
       "      <td>Action,Drama,Fantasy,Mystery</td>\n",
       "      <td>8.51</td>\n",
       "    </tr>\n",
       "    <tr>\n",
       "      <th>37</th>\n",
       "      <td>Shingeki no Kyojin</td>\n",
       "      <td>Centuries ago, mankind was slaughtered to near...</td>\n",
       "      <td>Apr 7, 2013, 01:58 (JST)</td>\n",
       "      <td>25</td>\n",
       "      <td>Wit Studio</td>\n",
       "      <td>3,067,845</td>\n",
       "      <td>Action,Drama,Fantasy,Mystery</td>\n",
       "      <td>8.51</td>\n",
       "    </tr>\n",
       "    <tr>\n",
       "      <th>133</th>\n",
       "      <td>Shingeki no Kyojin</td>\n",
       "      <td>Centuries ago, mankind was slaughtered to near...</td>\n",
       "      <td>Apr 7, 2013, 01:58 (JST)</td>\n",
       "      <td>25</td>\n",
       "      <td>Wit Studio</td>\n",
       "      <td>3,067,845</td>\n",
       "      <td>Action,Drama,Fantasy,Mystery</td>\n",
       "      <td>8.51</td>\n",
       "    </tr>\n",
       "  </tbody>\n",
       "</table>\n",
       "</div>"
      ],
      "text/plain": [
       "             anime_name                                        description  \\\n",
       "2    Shingeki no Kyojin  Centuries ago, mankind was slaughtered to near...   \n",
       "37   Shingeki no Kyojin  Centuries ago, mankind was slaughtered to near...   \n",
       "133  Shingeki no Kyojin  Centuries ago, mankind was slaughtered to near...   \n",
       "\n",
       "                 release date time      studio      views  \\\n",
       "2    Apr 7, 2013, 01:58 (JST)   25  Wit Studio  3,067,845   \n",
       "37   Apr 7, 2013, 01:58 (JST)   25  Wit Studio  3,067,845   \n",
       "133  Apr 7, 2013, 01:58 (JST)   25  Wit Studio  3,067,845   \n",
       "\n",
       "                           genres score  \n",
       "2    Action,Drama,Fantasy,Mystery  8.51  \n",
       "37   Action,Drama,Fantasy,Mystery  8.51  \n",
       "133  Action,Drama,Fantasy,Mystery  8.51  "
      ]
     },
     "execution_count": 14,
     "metadata": {},
     "output_type": "execute_result"
    }
   ],
   "source": [
    "anime[anime['anime_name']=='Shingeki no Kyojin']"
   ]
  },
  {
   "cell_type": "code",
   "execution_count": 15,
   "id": "122bb96e",
   "metadata": {},
   "outputs": [
    {
     "data": {
      "text/html": [
       "<div>\n",
       "<style scoped>\n",
       "    .dataframe tbody tr th:only-of-type {\n",
       "        vertical-align: middle;\n",
       "    }\n",
       "\n",
       "    .dataframe tbody tr th {\n",
       "        vertical-align: top;\n",
       "    }\n",
       "\n",
       "    .dataframe thead th {\n",
       "        text-align: right;\n",
       "    }\n",
       "</style>\n",
       "<table border=\"1\" class=\"dataframe\">\n",
       "  <thead>\n",
       "    <tr style=\"text-align: right;\">\n",
       "      <th></th>\n",
       "      <th>anime_name</th>\n",
       "      <th>description</th>\n",
       "      <th>release date</th>\n",
       "      <th>time</th>\n",
       "      <th>studio</th>\n",
       "      <th>views</th>\n",
       "      <th>genres</th>\n",
       "      <th>score</th>\n",
       "    </tr>\n",
       "  </thead>\n",
       "  <tbody>\n",
       "    <tr>\n",
       "      <th>161</th>\n",
       "      <td>Fullmetal Alchemist: Brotherhood</td>\n",
       "      <td>After a horrific alchemy experiment goes wrong...</td>\n",
       "      <td>Apr 5, 2009, 17:00 (JST)</td>\n",
       "      <td>64</td>\n",
       "      <td>Bones</td>\n",
       "      <td>2,622,263</td>\n",
       "      <td>Action,Adventure,Comedy,Drama,Fantasy</td>\n",
       "      <td>9.16</td>\n",
       "    </tr>\n",
       "  </tbody>\n",
       "</table>\n",
       "</div>"
      ],
      "text/plain": [
       "                           anime_name  \\\n",
       "161  Fullmetal Alchemist: Brotherhood   \n",
       "\n",
       "                                           description  \\\n",
       "161  After a horrific alchemy experiment goes wrong...   \n",
       "\n",
       "                 release date time studio      views  \\\n",
       "161  Apr 5, 2009, 17:00 (JST)   64  Bones  2,622,263   \n",
       "\n",
       "                                    genres score  \n",
       "161  Action,Adventure,Comedy,Drama,Fantasy  9.16  "
      ]
     },
     "execution_count": 15,
     "metadata": {},
     "output_type": "execute_result"
    }
   ],
   "source": [
    "anime[anime['anime_name']=='Fullmetal Alchemist: Brotherhood']"
   ]
  }
 ],
 "metadata": {
  "kernelspec": {
   "display_name": "Python 3 (ipykernel)",
   "language": "python",
   "name": "python3"
  },
  "language_info": {
   "codemirror_mode": {
    "name": "ipython",
    "version": 3
   },
   "file_extension": ".py",
   "mimetype": "text/x-python",
   "name": "python",
   "nbconvert_exporter": "python",
   "pygments_lexer": "ipython3",
   "version": "3.8.11"
  }
 },
 "nbformat": 4,
 "nbformat_minor": 5
}
